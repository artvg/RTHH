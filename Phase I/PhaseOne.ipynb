{
 "cells": [
  {
   "cell_type": "code",
   "execution_count": 1,
   "id": "1d824582",
   "metadata": {},
   "outputs": [],
   "source": [
    "# PHASE ONE - LOCAL TESTING / DRY RUN\n",
    "# Author: Arturo Valle\n",
    "# Goal: \n",
    "# Load the CuraiHealth dataset and confirm that Ollama is installed and responding"
   ]
  },
  {
   "cell_type": "code",
   "execution_count": 2,
   "id": "554499dc",
   "metadata": {},
   "outputs": [],
   "source": [
    "# !pip install -q datasets pandas"
   ]
  },
  {
   "cell_type": "code",
   "execution_count": 3,
   "id": "5ad10643",
   "metadata": {},
   "outputs": [],
   "source": [
    "# Imports\n",
    "from datasets import load_dataset   # load datasets directly from Hugging Face\n",
    "import pandas as pd                 # work with tables\n"
   ]
  },
  {
   "cell_type": "code",
   "execution_count": 4,
   "id": "7cd49971",
   "metadata": {},
   "outputs": [
    {
     "data": {
      "text/plain": [
       "DatasetDict({\n",
       "    train: Dataset({\n",
       "        features: ['dr_id', 'question_1', 'question_2', 'label'],\n",
       "        num_rows: 3048\n",
       "    })\n",
       "})"
      ]
     },
     "execution_count": 4,
     "metadata": {},
     "output_type": "execute_result"
    }
   ],
   "source": [
    "# Load dataset\n",
    "# Download the CuraiHealth medical question pairs dataset\n",
    "ds = load_dataset(\"curaihealth/medical_questions_pairs\")\n",
    "\n",
    "# Display dataset\n",
    "ds\n"
   ]
  },
  {
   "cell_type": "code",
   "execution_count": 5,
   "id": "99c138ba",
   "metadata": {},
   "outputs": [
    {
     "data": {
      "text/html": [
       "<div>\n",
       "<style scoped>\n",
       "    .dataframe tbody tr th:only-of-type {\n",
       "        vertical-align: middle;\n",
       "    }\n",
       "\n",
       "    .dataframe tbody tr th {\n",
       "        vertical-align: top;\n",
       "    }\n",
       "\n",
       "    .dataframe thead th {\n",
       "        text-align: right;\n",
       "    }\n",
       "</style>\n",
       "<table border=\"1\" class=\"dataframe\">\n",
       "  <thead>\n",
       "    <tr style=\"text-align: right;\">\n",
       "      <th></th>\n",
       "      <th>dr_id</th>\n",
       "      <th>question_1</th>\n",
       "      <th>question_2</th>\n",
       "      <th>label</th>\n",
       "    </tr>\n",
       "  </thead>\n",
       "  <tbody>\n",
       "    <tr>\n",
       "      <th>0</th>\n",
       "      <td>1</td>\n",
       "      <td>After how many hour from drinking an antibioti...</td>\n",
       "      <td>I have a party tonight and I took my last dose...</td>\n",
       "      <td>1</td>\n",
       "    </tr>\n",
       "    <tr>\n",
       "      <th>1</th>\n",
       "      <td>1</td>\n",
       "      <td>After how many hour from drinking an antibioti...</td>\n",
       "      <td>I vomited this morning and I am not sure if it...</td>\n",
       "      <td>0</td>\n",
       "    </tr>\n",
       "    <tr>\n",
       "      <th>2</th>\n",
       "      <td>1</td>\n",
       "      <td>Am I over weight (192.9) for my age (39)?</td>\n",
       "      <td>I am a 39 y/o male currently weighing about 19...</td>\n",
       "      <td>1</td>\n",
       "    </tr>\n",
       "    <tr>\n",
       "      <th>3</th>\n",
       "      <td>1</td>\n",
       "      <td>Am I over weight (192.9) for my age (39)?</td>\n",
       "      <td>What diet is good for losing weight? Keto or v...</td>\n",
       "      <td>0</td>\n",
       "    </tr>\n",
       "    <tr>\n",
       "      <th>4</th>\n",
       "      <td>1</td>\n",
       "      <td>Aspirin allergy - is it worth getting a bracelet?</td>\n",
       "      <td>How much Aspirin can I take for my headache wi...</td>\n",
       "      <td>0</td>\n",
       "    </tr>\n",
       "  </tbody>\n",
       "</table>\n",
       "</div>"
      ],
      "text/plain": [
       "   dr_id                                         question_1  \\\n",
       "0      1  After how many hour from drinking an antibioti...   \n",
       "1      1  After how many hour from drinking an antibioti...   \n",
       "2      1          Am I over weight (192.9) for my age (39)?   \n",
       "3      1          Am I over weight (192.9) for my age (39)?   \n",
       "4      1  Aspirin allergy - is it worth getting a bracelet?   \n",
       "\n",
       "                                          question_2  label  \n",
       "0  I have a party tonight and I took my last dose...      1  \n",
       "1  I vomited this morning and I am not sure if it...      0  \n",
       "2  I am a 39 y/o male currently weighing about 19...      1  \n",
       "3  What diet is good for losing weight? Keto or v...      0  \n",
       "4  How much Aspirin can I take for my headache wi...      0  "
      ]
     },
     "execution_count": 5,
     "metadata": {},
     "output_type": "execute_result"
    }
   ],
   "source": [
    "# Convert the Hugging Face dataset to a pandas DataFrame\n",
    "df = pd.DataFrame(ds[\"train\"])\n",
    "\n",
    "# Show the first 5 rows to confirm\n",
    "df.head()\n"
   ]
  },
  {
   "cell_type": "code",
   "execution_count": 6,
   "id": "36b0fec2",
   "metadata": {},
   "outputs": [
    {
     "name": "stdout",
     "output_type": "stream",
     "text": [
      "Shape: (3048, 4)\n",
      "<class 'pandas.core.frame.DataFrame'>\n",
      "RangeIndex: 3048 entries, 0 to 3047\n",
      "Data columns (total 4 columns):\n",
      " #   Column      Non-Null Count  Dtype \n",
      "---  ------      --------------  ----- \n",
      " 0   dr_id       3048 non-null   int64 \n",
      " 1   question_1  3048 non-null   object\n",
      " 2   question_2  3048 non-null   object\n",
      " 3   label       3048 non-null   int64 \n",
      "dtypes: int64(2), object(2)\n",
      "memory usage: 95.4+ KB\n",
      "\n",
      "Missing values per column:\n",
      "dr_id         0\n",
      "question_1    0\n",
      "question_2    0\n",
      "label         0\n",
      "dtype: int64\n",
      "\n",
      "Sample rows:\n"
     ]
    },
    {
     "data": {
      "text/html": [
       "<div>\n",
       "<style scoped>\n",
       "    .dataframe tbody tr th:only-of-type {\n",
       "        vertical-align: middle;\n",
       "    }\n",
       "\n",
       "    .dataframe tbody tr th {\n",
       "        vertical-align: top;\n",
       "    }\n",
       "\n",
       "    .dataframe thead th {\n",
       "        text-align: right;\n",
       "    }\n",
       "</style>\n",
       "<table border=\"1\" class=\"dataframe\">\n",
       "  <thead>\n",
       "    <tr style=\"text-align: right;\">\n",
       "      <th></th>\n",
       "      <th>dr_id</th>\n",
       "      <th>question_1</th>\n",
       "      <th>question_2</th>\n",
       "      <th>label</th>\n",
       "    </tr>\n",
       "  </thead>\n",
       "  <tbody>\n",
       "    <tr>\n",
       "      <th>762</th>\n",
       "      <td>3</td>\n",
       "      <td>Posterior vitreous detachments eye-p.v.d., wha...</td>\n",
       "      <td>How posterior viterous detachment of eye is tr...</td>\n",
       "      <td>0</td>\n",
       "    </tr>\n",
       "    <tr>\n",
       "      <th>2914</th>\n",
       "      <td>11</td>\n",
       "      <td>My first sonogram said I was 7 weeks pregnant ...</td>\n",
       "      <td>Hello doctor I had sex on 14th  june with ex a...</td>\n",
       "      <td>0</td>\n",
       "    </tr>\n",
       "    <tr>\n",
       "      <th>2081</th>\n",
       "      <td>8</td>\n",
       "      <td>Is it possible to be suffering allergic reacti...</td>\n",
       "      <td>I got a rash on my belly. I am allergic to dog...</td>\n",
       "      <td>0</td>\n",
       "    </tr>\n",
       "    <tr>\n",
       "      <th>1746</th>\n",
       "      <td>7</td>\n",
       "      <td>I didn't get my period for a month and now hav...</td>\n",
       "      <td>I have PCOS and my cycles are irregular. I mis...</td>\n",
       "      <td>0</td>\n",
       "    </tr>\n",
       "    <tr>\n",
       "      <th>2382</th>\n",
       "      <td>9</td>\n",
       "      <td>My daughter was diagnosed w a murmur@her4month...</td>\n",
       "      <td>My 4 month old daughter has been diagnsoed wit...</td>\n",
       "      <td>1</td>\n",
       "    </tr>\n",
       "  </tbody>\n",
       "</table>\n",
       "</div>"
      ],
      "text/plain": [
       "      dr_id                                         question_1  \\\n",
       "762       3  Posterior vitreous detachments eye-p.v.d., wha...   \n",
       "2914     11  My first sonogram said I was 7 weeks pregnant ...   \n",
       "2081      8  Is it possible to be suffering allergic reacti...   \n",
       "1746      7  I didn't get my period for a month and now hav...   \n",
       "2382      9  My daughter was diagnosed w a murmur@her4month...   \n",
       "\n",
       "                                             question_2  label  \n",
       "762   How posterior viterous detachment of eye is tr...      0  \n",
       "2914  Hello doctor I had sex on 14th  june with ex a...      0  \n",
       "2081  I got a rash on my belly. I am allergic to dog...      0  \n",
       "1746  I have PCOS and my cycles are irregular. I mis...      0  \n",
       "2382  My 4 month old daughter has been diagnsoed wit...      1  "
      ]
     },
     "metadata": {},
     "output_type": "display_data"
    }
   ],
   "source": [
    "# Inspect data\n",
    "# Check overall shape (rows, columns)\n",
    "print(\"Shape:\", df.shape)\n",
    "\n",
    "# Get info about datatypes and nulls\n",
    "df.info()\n",
    "\n",
    "# Count missing values per column\n",
    "print(\"\\nMissing values per column:\")\n",
    "print(df.isna().sum())\n",
    "\n",
    "# Randomly sample 5 rows to inspect data\n",
    "print(\"\\nSample rows:\")\n",
    "display(df.sample(5))\n"
   ]
  },
  {
   "cell_type": "code",
   "execution_count": 7,
   "id": "f9907059",
   "metadata": {},
   "outputs": [
    {
     "data": {
      "text/html": [
       "<div>\n",
       "<style scoped>\n",
       "    .dataframe tbody tr th:only-of-type {\n",
       "        vertical-align: middle;\n",
       "    }\n",
       "\n",
       "    .dataframe tbody tr th {\n",
       "        vertical-align: top;\n",
       "    }\n",
       "\n",
       "    .dataframe thead th {\n",
       "        text-align: right;\n",
       "    }\n",
       "</style>\n",
       "<table border=\"1\" class=\"dataframe\">\n",
       "  <thead>\n",
       "    <tr style=\"text-align: right;\">\n",
       "      <th></th>\n",
       "      <th>dr_id</th>\n",
       "      <th>question_type_1</th>\n",
       "      <th>question_type_2</th>\n",
       "      <th>label</th>\n",
       "    </tr>\n",
       "  </thead>\n",
       "  <tbody>\n",
       "    <tr>\n",
       "      <th>0</th>\n",
       "      <td>1</td>\n",
       "      <td>After how many hour from drinking an antibioti...</td>\n",
       "      <td>I have a party tonight and I took my last dose...</td>\n",
       "      <td>1</td>\n",
       "    </tr>\n",
       "    <tr>\n",
       "      <th>1</th>\n",
       "      <td>1</td>\n",
       "      <td>After how many hour from drinking an antibioti...</td>\n",
       "      <td>I vomited this morning and I am not sure if it...</td>\n",
       "      <td>0</td>\n",
       "    </tr>\n",
       "    <tr>\n",
       "      <th>2</th>\n",
       "      <td>1</td>\n",
       "      <td>Am I over weight (192.9) for my age (39)?</td>\n",
       "      <td>I am a 39 y/o male currently weighing about 19...</td>\n",
       "      <td>1</td>\n",
       "    </tr>\n",
       "    <tr>\n",
       "      <th>3</th>\n",
       "      <td>1</td>\n",
       "      <td>Am I over weight (192.9) for my age (39)?</td>\n",
       "      <td>What diet is good for losing weight? Keto or v...</td>\n",
       "      <td>0</td>\n",
       "    </tr>\n",
       "    <tr>\n",
       "      <th>4</th>\n",
       "      <td>1</td>\n",
       "      <td>Aspirin allergy - is it worth getting a bracelet?</td>\n",
       "      <td>How much Aspirin can I take for my headache wi...</td>\n",
       "      <td>0</td>\n",
       "    </tr>\n",
       "  </tbody>\n",
       "</table>\n",
       "</div>"
      ],
      "text/plain": [
       "   dr_id                                    question_type_1  \\\n",
       "0      1  After how many hour from drinking an antibioti...   \n",
       "1      1  After how many hour from drinking an antibioti...   \n",
       "2      1          Am I over weight (192.9) for my age (39)?   \n",
       "3      1          Am I over weight (192.9) for my age (39)?   \n",
       "4      1  Aspirin allergy - is it worth getting a bracelet?   \n",
       "\n",
       "                                     question_type_2  label  \n",
       "0  I have a party tonight and I took my last dose...      1  \n",
       "1  I vomited this morning and I am not sure if it...      0  \n",
       "2  I am a 39 y/o male currently weighing about 19...      1  \n",
       "3  What diet is good for losing weight? Keto or v...      0  \n",
       "4  How much Aspirin can I take for my headache wi...      0  "
      ]
     },
     "execution_count": 7,
     "metadata": {},
     "output_type": "execute_result"
    }
   ],
   "source": [
    "# Rename columns\n",
    "df = df.rename(columns={\n",
    "    \"question_1\": \"question_type_1\",\n",
    "    \"question_2\": \"question_type_2\"\n",
    "})\n",
    "\n",
    "# New column names\n",
    "df.head()\n"
   ]
  },
  {
   "cell_type": "code",
   "execution_count": 8,
   "id": "c7c2989d",
   "metadata": {},
   "outputs": [
    {
     "name": "stdout",
     "output_type": "stream",
     "text": [
      "Unique doctors in dataset: 11\n",
      "\n",
      "Label counts:\n",
      "label\n",
      "1    1524\n",
      "0    1524\n",
      "Name: count, dtype: int64\n"
     ]
    }
   ],
   "source": [
    "# Quick stats\n",
    "print(\"Unique doctors in dataset:\", df[\"dr_id\"].nunique())\n",
    "\n",
    "print(\"\\nLabel counts:\")\n",
    "print(df[\"label\"].value_counts())\n"
   ]
  },
  {
   "cell_type": "code",
   "execution_count": 1,
   "id": "db220ff0",
   "metadata": {},
   "outputs": [],
   "source": [
    "# Ollama Test\n",
    "# This aproach had to be aborted since my computers did not take running ollama that well. \n"
   ]
  }
 ],
 "metadata": {
  "kernelspec": {
   "display_name": "Python 3 (ipykernel)",
   "language": "python",
   "name": "python3"
  },
  "language_info": {
   "codemirror_mode": {
    "name": "ipython",
    "version": 3
   },
   "file_extension": ".py",
   "mimetype": "text/x-python",
   "name": "python",
   "nbconvert_exporter": "python",
   "pygments_lexer": "ipython3",
   "version": "3.13.2"
  }
 },
 "nbformat": 4,
 "nbformat_minor": 5
}
