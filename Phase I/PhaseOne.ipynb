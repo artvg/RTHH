{
 "cells": [
  {
   "cell_type": "code",
   "execution_count": 48,
   "id": "71bf2532",
   "metadata": {},
   "outputs": [
    {
     "name": "stdout",
     "output_type": "stream",
     "text": [
      "CuraiHealth dataset loaded.\n",
      "Shape: (500, 4)\n"
     ]
    },
    {
     "data": {
      "text/html": [
       "<div>\n",
       "<style scoped>\n",
       "    .dataframe tbody tr th:only-of-type {\n",
       "        vertical-align: middle;\n",
       "    }\n",
       "\n",
       "    .dataframe tbody tr th {\n",
       "        vertical-align: top;\n",
       "    }\n",
       "\n",
       "    .dataframe thead th {\n",
       "        text-align: right;\n",
       "    }\n",
       "</style>\n",
       "<table border=\"1\" class=\"dataframe\">\n",
       "  <thead>\n",
       "    <tr style=\"text-align: right;\">\n",
       "      <th></th>\n",
       "      <th>dr_id</th>\n",
       "      <th>question_1</th>\n",
       "      <th>question_2</th>\n",
       "      <th>label</th>\n",
       "    </tr>\n",
       "  </thead>\n",
       "  <tbody>\n",
       "    <tr>\n",
       "      <th>0</th>\n",
       "      <td>1</td>\n",
       "      <td>After how many hour from drinking an antibiotic can I drink alcohol?</td>\n",
       "      <td>I have a party tonight and I took my last dose of Azithromycin this morning. Can I have a few drinks?</td>\n",
       "      <td>1</td>\n",
       "    </tr>\n",
       "    <tr>\n",
       "      <th>1</th>\n",
       "      <td>1</td>\n",
       "      <td>After how many hour from drinking an antibiotic can I drink alcohol?</td>\n",
       "      <td>I vomited this morning and I am not sure if it is the side effect of my antibiotic or the alcohol I took last night...</td>\n",
       "      <td>0</td>\n",
       "    </tr>\n",
       "    <tr>\n",
       "      <th>2</th>\n",
       "      <td>1</td>\n",
       "      <td>Am I over weight (192.9) for my age (39)?</td>\n",
       "      <td>I am a 39 y/o male currently weighing about 193 lbs. Do you think I am overweight?</td>\n",
       "      <td>1</td>\n",
       "    </tr>\n",
       "    <tr>\n",
       "      <th>3</th>\n",
       "      <td>1</td>\n",
       "      <td>Am I over weight (192.9) for my age (39)?</td>\n",
       "      <td>What diet is good for losing weight? Keto or vegan?</td>\n",
       "      <td>0</td>\n",
       "    </tr>\n",
       "    <tr>\n",
       "      <th>4</th>\n",
       "      <td>1</td>\n",
       "      <td>Aspirin allergy - is it worth getting a bracelet?</td>\n",
       "      <td>How much Aspirin can I take for my headache without causing any side effects?</td>\n",
       "      <td>0</td>\n",
       "    </tr>\n",
       "  </tbody>\n",
       "</table>\n",
       "</div>"
      ],
      "text/plain": [
       "   dr_id  \\\n",
       "0      1   \n",
       "1      1   \n",
       "2      1   \n",
       "3      1   \n",
       "4      1   \n",
       "\n",
       "                                                             question_1  \\\n",
       "0  After how many hour from drinking an antibiotic can I drink alcohol?   \n",
       "1  After how many hour from drinking an antibiotic can I drink alcohol?   \n",
       "2                             Am I over weight (192.9) for my age (39)?   \n",
       "3                             Am I over weight (192.9) for my age (39)?   \n",
       "4                     Aspirin allergy - is it worth getting a bracelet?   \n",
       "\n",
       "                                                                                                               question_2  \\\n",
       "0                   I have a party tonight and I took my last dose of Azithromycin this morning. Can I have a few drinks?   \n",
       "1  I vomited this morning and I am not sure if it is the side effect of my antibiotic or the alcohol I took last night...   \n",
       "2                                      I am a 39 y/o male currently weighing about 193 lbs. Do you think I am overweight?   \n",
       "3                                                                     What diet is good for losing weight? Keto or vegan?   \n",
       "4                                           How much Aspirin can I take for my headache without causing any side effects?   \n",
       "\n",
       "   label  \n",
       "0      1  \n",
       "1      0  \n",
       "2      1  \n",
       "3      0  \n",
       "4      0  "
      ]
     },
     "metadata": {},
     "output_type": "display_data"
    },
    {
     "name": "stdout",
     "output_type": "stream",
     "text": [
      "<class 'pandas.core.frame.DataFrame'>\n",
      "RangeIndex: 500 entries, 0 to 499\n",
      "Data columns (total 4 columns):\n",
      " #   Column      Non-Null Count  Dtype \n",
      "---  ------      --------------  ----- \n",
      " 0   dr_id       500 non-null    int32 \n",
      " 1   question_1  500 non-null    object\n",
      " 2   question_2  500 non-null    object\n",
      " 3   label       500 non-null    int64 \n",
      "dtypes: int32(1), int64(1), object(2)\n",
      "memory usage: 13.8+ KB\n"
     ]
    },
    {
     "data": {
      "text/plain": [
       "None"
      ]
     },
     "metadata": {},
     "output_type": "display_data"
    },
    {
     "name": "stdout",
     "output_type": "stream",
     "text": [
      "Missing values:\n",
      " dr_id         0\n",
      "question_1    0\n",
      "question_2    0\n",
      "label         0\n",
      "dtype: int64\n"
     ]
    }
   ],
   "source": [
    "# Load CuraiHealth dataset\n",
    "# !pip -q install datasets pandas\n",
    "\n",
    "from datasets import load_dataset\n",
    "import pandas as pd\n",
    "\n",
    "# Load the dataset from Hugging Face\n",
    "dataset = load_dataset(\"curaihealth/medical_questions_pairs\", split=\"train[:500]\")\n",
    "\n",
    "# Convert to pandas for inspection\n",
    "df = dataset.to_pandas()\n",
    "\n",
    "print(\"CuraiHealth dataset loaded.\")\n",
    "print(\"Shape:\", df.shape)\n",
    "display(df.head())\n",
    "display(df.info())\n",
    "print(\"Missing values:\\n\", df.isna().sum())\n"
   ]
  },
  {
   "cell_type": "code",
   "execution_count": 50,
   "id": "ecafe8df",
   "metadata": {},
   "outputs": [
    {
     "name": "stdout",
     "output_type": "stream",
     "text": [
      "Gemini says: Hello.\n"
     ]
    }
   ],
   "source": [
    "API_KEY = \"REMOVED FOR SECURITY REASONS\"\n",
    "\n",
    "from google import genai\n",
    "client = genai.Client(api_key=API_KEY)\n",
    "MODEL = \"gemini-2.5-flash\"\n",
    "\n",
    "# Quick test prompt\n",
    "resp = client.models.generate_content(model=MODEL, contents=\"Say hi in one short sentence.\")\n",
    "print(\"Gemini says:\", (resp.text or \"\").strip())\n"
   ]
  },
  {
   "cell_type": "code",
   "execution_count": 54,
   "id": "e8af143b",
   "metadata": {},
   "outputs": [
    {
     "name": "stdout",
     "output_type": "stream",
     "text": [
      "Error: Error code: 429 - {'error': {'message': 'You exceeded your current quota, please check your plan and billing details. For more information on this error, read the docs: https://platform.openai.com/docs/guides/error-codes/api-errors.', 'type': 'insufficient_quota', 'param': None, 'code': 'insufficient_quota'}}\n"
     ]
    }
   ],
   "source": [
    "# ChatGPT (OpenAI) quick test NEEDS MONEY ON THE KEY TO WORK\n",
    "\n",
    "# !pip -q install --upgrade openai\n",
    "\n",
    "from openai import OpenAI\n",
    "client_oa = OpenAI(api_key=\"REMOVED FOR SECURITY REASONS\")\n",
    "\n",
    "MODEL = \"gpt-4o-mini\"   \n",
    "\n",
    "try:\n",
    "    resp = client_oa.responses.create(\n",
    "        model=MODEL,\n",
    "        input=\"Say hi in one short sentence.\"\n",
    "    )\n",
    "    print(\"ChatGPT says:\", resp.output_text.strip())\n",
    "except Exception as e:\n",
    "    print(\"Error:\", e)\n",
    "\n"
   ]
  }
 ],
 "metadata": {
  "kernelspec": {
   "display_name": "Python 3",
   "language": "python",
   "name": "python3"
  },
  "language_info": {
   "codemirror_mode": {
    "name": "ipython",
    "version": 3
   },
   "file_extension": ".py",
   "mimetype": "text/x-python",
   "name": "python",
   "nbconvert_exporter": "python",
   "pygments_lexer": "ipython3",
   "version": "3.13.2"
  }
 },
 "nbformat": 4,
 "nbformat_minor": 5
}
