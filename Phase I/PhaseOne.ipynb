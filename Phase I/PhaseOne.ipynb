{
 "cells": [
  {
   "cell_type": "code",
   "execution_count": 1,
   "id": "1d824582",
   "metadata": {},
   "outputs": [],
   "source": [
    "# PHASE ONE - LOCAL TESTING / DRY RUN\n",
    "# Author: Arturo Valle\n",
    "# Goal: \n",
    "# Load the CuraiHealth dataset and confirm that Ollama is installed and responding"
   ]
  },
  {
   "cell_type": "code",
   "execution_count": null,
   "id": "554499dc",
   "metadata": {},
   "outputs": [],
   "source": [
    "# !pip install -q datasets pandas"
   ]
  },
  {
   "cell_type": "code",
   "execution_count": 3,
   "id": "5ad10643",
   "metadata": {},
   "outputs": [],
   "source": [
    "# Imports\n",
    "from datasets import load_dataset   # load datasets directly from Hugging Face\n",
    "import pandas as pd                 # work with tables\n"
   ]
  },
  {
   "cell_type": "code",
   "execution_count": 4,
   "id": "7cd49971",
   "metadata": {},
   "outputs": [
    {
     "data": {
      "application/vnd.jupyter.widget-view+json": {
       "model_id": "6247f94d0cf44e6589f67604286e7b7d",
       "version_major": 2,
       "version_minor": 0
      },
      "text/plain": [
       "README.md: 0.00B [00:00, ?B/s]"
      ]
     },
     "metadata": {},
     "output_type": "display_data"
    },
    {
     "name": "stderr",
     "output_type": "stream",
     "text": [
      "Xet Storage is enabled for this repo, but the 'hf_xet' package is not installed. Falling back to regular HTTP download. For better performance, install the package with: `pip install huggingface_hub[hf_xet]` or `pip install hf_xet`\n"
     ]
    },
    {
     "data": {
      "application/vnd.jupyter.widget-view+json": {
       "model_id": "9dd0866407fd4216b1f9c275fa37c52f",
       "version_major": 2,
       "version_minor": 0
      },
      "text/plain": [
       "train-00000-of-00001.parquet:   0%|          | 0.00/314k [00:00<?, ?B/s]"
      ]
     },
     "metadata": {},
     "output_type": "display_data"
    },
    {
     "data": {
      "application/vnd.jupyter.widget-view+json": {
       "model_id": "d8fd9915cc3e4926bd79913c253dd856",
       "version_major": 2,
       "version_minor": 0
      },
      "text/plain": [
       "Generating train split:   0%|          | 0/3048 [00:00<?, ? examples/s]"
      ]
     },
     "metadata": {},
     "output_type": "display_data"
    },
    {
     "data": {
      "text/plain": [
       "DatasetDict({\n",
       "    train: Dataset({\n",
       "        features: ['dr_id', 'question_1', 'question_2', 'label'],\n",
       "        num_rows: 3048\n",
       "    })\n",
       "})"
      ]
     },
     "execution_count": 4,
     "metadata": {},
     "output_type": "execute_result"
    }
   ],
   "source": [
    "# Load dataset\n",
    "# Download the CuraiHealth medical question pairs dataset\n",
    "ds = load_dataset(\"curaihealth/medical_questions_pairs\")\n",
    "\n",
    "# Display dataset\n",
    "ds\n"
   ]
  },
  {
   "cell_type": "code",
   "execution_count": 5,
   "id": "99c138ba",
   "metadata": {},
   "outputs": [
    {
     "data": {
      "text/html": [
       "<div>\n",
       "<style scoped>\n",
       "    .dataframe tbody tr th:only-of-type {\n",
       "        vertical-align: middle;\n",
       "    }\n",
       "\n",
       "    .dataframe tbody tr th {\n",
       "        vertical-align: top;\n",
       "    }\n",
       "\n",
       "    .dataframe thead th {\n",
       "        text-align: right;\n",
       "    }\n",
       "</style>\n",
       "<table border=\"1\" class=\"dataframe\">\n",
       "  <thead>\n",
       "    <tr style=\"text-align: right;\">\n",
       "      <th></th>\n",
       "      <th>dr_id</th>\n",
       "      <th>question_1</th>\n",
       "      <th>question_2</th>\n",
       "      <th>label</th>\n",
       "    </tr>\n",
       "  </thead>\n",
       "  <tbody>\n",
       "    <tr>\n",
       "      <th>0</th>\n",
       "      <td>1</td>\n",
       "      <td>After how many hour from drinking an antibioti...</td>\n",
       "      <td>I have a party tonight and I took my last dose...</td>\n",
       "      <td>1</td>\n",
       "    </tr>\n",
       "    <tr>\n",
       "      <th>1</th>\n",
       "      <td>1</td>\n",
       "      <td>After how many hour from drinking an antibioti...</td>\n",
       "      <td>I vomited this morning and I am not sure if it...</td>\n",
       "      <td>0</td>\n",
       "    </tr>\n",
       "    <tr>\n",
       "      <th>2</th>\n",
       "      <td>1</td>\n",
       "      <td>Am I over weight (192.9) for my age (39)?</td>\n",
       "      <td>I am a 39 y/o male currently weighing about 19...</td>\n",
       "      <td>1</td>\n",
       "    </tr>\n",
       "    <tr>\n",
       "      <th>3</th>\n",
       "      <td>1</td>\n",
       "      <td>Am I over weight (192.9) for my age (39)?</td>\n",
       "      <td>What diet is good for losing weight? Keto or v...</td>\n",
       "      <td>0</td>\n",
       "    </tr>\n",
       "    <tr>\n",
       "      <th>4</th>\n",
       "      <td>1</td>\n",
       "      <td>Aspirin allergy - is it worth getting a bracelet?</td>\n",
       "      <td>How much Aspirin can I take for my headache wi...</td>\n",
       "      <td>0</td>\n",
       "    </tr>\n",
       "  </tbody>\n",
       "</table>\n",
       "</div>"
      ],
      "text/plain": [
       "   dr_id                                         question_1  \\\n",
       "0      1  After how many hour from drinking an antibioti...   \n",
       "1      1  After how many hour from drinking an antibioti...   \n",
       "2      1          Am I over weight (192.9) for my age (39)?   \n",
       "3      1          Am I over weight (192.9) for my age (39)?   \n",
       "4      1  Aspirin allergy - is it worth getting a bracelet?   \n",
       "\n",
       "                                          question_2  label  \n",
       "0  I have a party tonight and I took my last dose...      1  \n",
       "1  I vomited this morning and I am not sure if it...      0  \n",
       "2  I am a 39 y/o male currently weighing about 19...      1  \n",
       "3  What diet is good for losing weight? Keto or v...      0  \n",
       "4  How much Aspirin can I take for my headache wi...      0  "
      ]
     },
     "execution_count": 5,
     "metadata": {},
     "output_type": "execute_result"
    }
   ],
   "source": [
    "# Convert the Hugging Face dataset to a pandas DataFrame\n",
    "df = pd.DataFrame(ds[\"train\"])\n",
    "\n",
    "# Show the first 5 rows to confirm\n",
    "df.head()\n"
   ]
  },
  {
   "cell_type": "code",
   "execution_count": null,
   "id": "36b0fec2",
   "metadata": {},
   "outputs": [
    {
     "name": "stdout",
     "output_type": "stream",
     "text": [
      "Shape: (3048, 4)\n",
      "<class 'pandas.core.frame.DataFrame'>\n",
      "RangeIndex: 3048 entries, 0 to 3047\n",
      "Data columns (total 4 columns):\n",
      " #   Column      Non-Null Count  Dtype \n",
      "---  ------      --------------  ----- \n",
      " 0   dr_id       3048 non-null   int64 \n",
      " 1   question_1  3048 non-null   object\n",
      " 2   question_2  3048 non-null   object\n",
      " 3   label       3048 non-null   int64 \n",
      "dtypes: int64(2), object(2)\n",
      "memory usage: 95.4+ KB\n",
      "\n",
      "Missing values per column:\n",
      "dr_id         0\n",
      "question_1    0\n",
      "question_2    0\n",
      "label         0\n",
      "dtype: int64\n",
      "\n",
      "Sample rows:\n"
     ]
    },
    {
     "data": {
      "text/html": [
       "<div>\n",
       "<style scoped>\n",
       "    .dataframe tbody tr th:only-of-type {\n",
       "        vertical-align: middle;\n",
       "    }\n",
       "\n",
       "    .dataframe tbody tr th {\n",
       "        vertical-align: top;\n",
       "    }\n",
       "\n",
       "    .dataframe thead th {\n",
       "        text-align: right;\n",
       "    }\n",
       "</style>\n",
       "<table border=\"1\" class=\"dataframe\">\n",
       "  <thead>\n",
       "    <tr style=\"text-align: right;\">\n",
       "      <th></th>\n",
       "      <th>dr_id</th>\n",
       "      <th>question_1</th>\n",
       "      <th>question_2</th>\n",
       "      <th>label</th>\n",
       "    </tr>\n",
       "  </thead>\n",
       "  <tbody>\n",
       "    <tr>\n",
       "      <th>2178</th>\n",
       "      <td>8</td>\n",
       "      <td>What types of exercises are recommended for re...</td>\n",
       "      <td>Do you have any ideas about exercises that can...</td>\n",
       "      <td>1</td>\n",
       "    </tr>\n",
       "    <tr>\n",
       "      <th>2189</th>\n",
       "      <td>8</td>\n",
       "      <td>Will bodybuiling at sixteen and a half slow my...</td>\n",
       "      <td>I am sixteen and half year old and my height i...</td>\n",
       "      <td>0</td>\n",
       "    </tr>\n",
       "    <tr>\n",
       "      <th>1622</th>\n",
       "      <td>6</td>\n",
       "      <td>What is the use of the drug lovenox (enoxaparin)?</td>\n",
       "      <td>How is Lovenox used?</td>\n",
       "      <td>1</td>\n",
       "    </tr>\n",
       "    <tr>\n",
       "      <th>232</th>\n",
       "      <td>2</td>\n",
       "      <td>How can  you heal chronic knee bursitis?</td>\n",
       "      <td>How is chronic knee bursitis diagnosed? Is MRI...</td>\n",
       "      <td>0</td>\n",
       "    </tr>\n",
       "    <tr>\n",
       "      <th>2603</th>\n",
       "      <td>10</td>\n",
       "      <td>Interested in yoga but don't know which one to...</td>\n",
       "      <td>Yoga is helping me with relaxation, could you ...</td>\n",
       "      <td>0</td>\n",
       "    </tr>\n",
       "  </tbody>\n",
       "</table>\n",
       "</div>"
      ],
      "text/plain": [
       "      dr_id                                         question_1  \\\n",
       "2178      8  What types of exercises are recommended for re...   \n",
       "2189      8  Will bodybuiling at sixteen and a half slow my...   \n",
       "1622      6  What is the use of the drug lovenox (enoxaparin)?   \n",
       "232       2           How can  you heal chronic knee bursitis?   \n",
       "2603     10  Interested in yoga but don't know which one to...   \n",
       "\n",
       "                                             question_2  label  \n",
       "2178  Do you have any ideas about exercises that can...      1  \n",
       "2189  I am sixteen and half year old and my height i...      0  \n",
       "1622                               How is Lovenox used?      1  \n",
       "232   How is chronic knee bursitis diagnosed? Is MRI...      0  \n",
       "2603  Yoga is helping me with relaxation, could you ...      0  "
      ]
     },
     "metadata": {},
     "output_type": "display_data"
    }
   ],
   "source": [
    "# Inspect data\n",
    "# Check overall shape (rows, columns)\n",
    "print(\"Shape:\", df.shape)\n",
    "\n",
    "# Get info about datatypes and nulls\n",
    "df.info()\n",
    "\n",
    "# Count missing values per column\n",
    "print(\"\\nMissing values per column:\")\n",
    "print(df.isna().sum())\n",
    "\n",
    "# Randomly sample 5 rows to inspect data\n",
    "print(\"\\nSample rows:\")\n",
    "display(df.sample(5))\n"
   ]
  },
  {
   "cell_type": "code",
   "execution_count": 7,
   "id": "f9907059",
   "metadata": {},
   "outputs": [
    {
     "data": {
      "text/html": [
       "<div>\n",
       "<style scoped>\n",
       "    .dataframe tbody tr th:only-of-type {\n",
       "        vertical-align: middle;\n",
       "    }\n",
       "\n",
       "    .dataframe tbody tr th {\n",
       "        vertical-align: top;\n",
       "    }\n",
       "\n",
       "    .dataframe thead th {\n",
       "        text-align: right;\n",
       "    }\n",
       "</style>\n",
       "<table border=\"1\" class=\"dataframe\">\n",
       "  <thead>\n",
       "    <tr style=\"text-align: right;\">\n",
       "      <th></th>\n",
       "      <th>dr_id</th>\n",
       "      <th>question_type_1</th>\n",
       "      <th>question_type_2</th>\n",
       "      <th>label</th>\n",
       "    </tr>\n",
       "  </thead>\n",
       "  <tbody>\n",
       "    <tr>\n",
       "      <th>0</th>\n",
       "      <td>1</td>\n",
       "      <td>After how many hour from drinking an antibioti...</td>\n",
       "      <td>I have a party tonight and I took my last dose...</td>\n",
       "      <td>1</td>\n",
       "    </tr>\n",
       "    <tr>\n",
       "      <th>1</th>\n",
       "      <td>1</td>\n",
       "      <td>After how many hour from drinking an antibioti...</td>\n",
       "      <td>I vomited this morning and I am not sure if it...</td>\n",
       "      <td>0</td>\n",
       "    </tr>\n",
       "    <tr>\n",
       "      <th>2</th>\n",
       "      <td>1</td>\n",
       "      <td>Am I over weight (192.9) for my age (39)?</td>\n",
       "      <td>I am a 39 y/o male currently weighing about 19...</td>\n",
       "      <td>1</td>\n",
       "    </tr>\n",
       "    <tr>\n",
       "      <th>3</th>\n",
       "      <td>1</td>\n",
       "      <td>Am I over weight (192.9) for my age (39)?</td>\n",
       "      <td>What diet is good for losing weight? Keto or v...</td>\n",
       "      <td>0</td>\n",
       "    </tr>\n",
       "    <tr>\n",
       "      <th>4</th>\n",
       "      <td>1</td>\n",
       "      <td>Aspirin allergy - is it worth getting a bracelet?</td>\n",
       "      <td>How much Aspirin can I take for my headache wi...</td>\n",
       "      <td>0</td>\n",
       "    </tr>\n",
       "  </tbody>\n",
       "</table>\n",
       "</div>"
      ],
      "text/plain": [
       "   dr_id                                    question_type_1  \\\n",
       "0      1  After how many hour from drinking an antibioti...   \n",
       "1      1  After how many hour from drinking an antibioti...   \n",
       "2      1          Am I over weight (192.9) for my age (39)?   \n",
       "3      1          Am I over weight (192.9) for my age (39)?   \n",
       "4      1  Aspirin allergy - is it worth getting a bracelet?   \n",
       "\n",
       "                                     question_type_2  label  \n",
       "0  I have a party tonight and I took my last dose...      1  \n",
       "1  I vomited this morning and I am not sure if it...      0  \n",
       "2  I am a 39 y/o male currently weighing about 19...      1  \n",
       "3  What diet is good for losing weight? Keto or v...      0  \n",
       "4  How much Aspirin can I take for my headache wi...      0  "
      ]
     },
     "execution_count": 7,
     "metadata": {},
     "output_type": "execute_result"
    }
   ],
   "source": [
    "# Rename columns\n",
    "df = df.rename(columns={\n",
    "    \"question_1\": \"question_type_1\",\n",
    "    \"question_2\": \"question_type_2\"\n",
    "})\n",
    "\n",
    "# New column names\n",
    "df.head()\n"
   ]
  },
  {
   "cell_type": "code",
   "execution_count": 8,
   "id": "c7c2989d",
   "metadata": {},
   "outputs": [
    {
     "name": "stdout",
     "output_type": "stream",
     "text": [
      "Unique doctors in dataset: 11\n",
      "\n",
      "Label counts:\n",
      "label\n",
      "1    1524\n",
      "0    1524\n",
      "Name: count, dtype: int64\n"
     ]
    }
   ],
   "source": [
    "# Quick stats\n",
    "print(\"Unique doctors in dataset:\", df[\"dr_id\"].nunique())\n",
    "\n",
    "print(\"\\nLabel counts:\")\n",
    "print(df[\"label\"].value_counts())\n"
   ]
  },
  {
   "cell_type": "code",
   "execution_count": null,
   "id": "db220ff0",
   "metadata": {},
   "outputs": [],
   "source": [
    "# Ollama Test\n",
    "# This checks if Ollama is installed and can respond to a simple question.\n",
    "# It does NOT save anything yet — it's just a dry run, be patient!\n",
    "\n",
    "import subprocess\n",
    "\n",
    "test_prompt = \"What is a common cold?\"\n",
    "\n",
    "# Run the model (can change 'deepseek' to 'gemma' just to test the different models)\n",
    "result = subprocess.run(\n",
    "    [\"ollama\", \"run\", \"deepseek\", test_prompt],\n",
    "    capture_output=True,\n",
    "    text=True\n",
    ")\n",
    "\n",
    "print(\"\\nOllama model test output:\\n\")\n",
    "if result.stdout:\n",
    "    print(result.stdout)\n",
    "else:\n",
    "    print(\"Error or no response:\\n\", result.stderr)\n"
   ]
  }
 ],
 "metadata": {
  "kernelspec": {
   "display_name": "Python 3",
   "language": "python",
   "name": "python3"
  },
  "language_info": {
   "codemirror_mode": {
    "name": "ipython",
    "version": 3
   },
   "file_extension": ".py",
   "mimetype": "text/x-python",
   "name": "python",
   "nbconvert_exporter": "python",
   "pygments_lexer": "ipython3",
   "version": "3.13.2"
  }
 },
 "nbformat": 4,
 "nbformat_minor": 5
}
